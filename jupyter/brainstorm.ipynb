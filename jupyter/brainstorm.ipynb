{
 "cells": [
  {
   "cell_type": "code",
   "execution_count": 1,
   "metadata": {
    "ExecuteTime": {
     "end_time": "2020-03-26T19:00:43.463907Z",
     "start_time": "2020-03-26T19:00:43.280707Z"
    }
   },
   "outputs": [],
   "source": [
    "import numpy as np\n",
    "from PIL import Image\n",
    "\n",
    "def read_images(file_paths):\n",
    "    X = []\n",
    "    y = [] # 0 if sober, 1 if drunk\n",
    "    \n",
    "    for file_name in file_paths:\n",
    "        thermal_data = np.zeros((128, 160))\n",
    "        with Image.open(file_name) as img:\n",
    "            for i in range(img.n_frames):\n",
    "                img.seek(i)\n",
    "                frame_data = np.array(img)\n",
    "                min_val = np.amin(frame_data)\n",
    "                frame_data -= min_val\n",
    "                for j in range(img.height):\n",
    "                    for k in range(img.width):\n",
    "                        thermal_data[j, k] += frame_data[j, k]\n",
    "        X.append(thermal_data)\n",
    "        \n",
    "        if '_1_f' in file_name: # Only first pic in series is sober data\n",
    "            y.append(0)\n",
    "        else:\n",
    "            y.append(1)\n",
    "\n",
    "        print(file_name)\n",
    "        print(thermal_data)\n",
    "    return X,y"
   ]
  },
  {
   "cell_type": "code",
   "execution_count": 2,
   "metadata": {
    "ExecuteTime": {
     "end_time": "2020-03-26T19:00:43.509418Z",
     "start_time": "2020-03-26T19:00:43.465641Z"
    }
   },
   "outputs": [],
   "source": [
    "import os\n",
    "import glob\n",
    "import matplotlib as plt\n",
    "\n",
    "DIR_NAME = 'data'\n",
    "\n",
    "os.chdir(f'../{DIR_NAME}')\n",
    "DATA_DIR = os.getcwd()"
   ]
  },
  {
   "cell_type": "code",
   "execution_count": 3,
   "metadata": {
    "ExecuteTime": {
     "end_time": "2020-03-26T19:00:43.549947Z",
     "start_time": "2020-03-26T19:00:43.511636Z"
    }
   },
   "outputs": [],
   "source": [
    "os.chdir(os.path.join(DATA_DIR,'train'))\n",
    "HOME = os.getcwd()\n",
    "\n",
    "import pickle\n",
    "\n",
    "X_train = None\n",
    "y_train = None\n",
    "if os.path.exists('train.pkl'):\n",
    "    (X_train,y_train) = pickle.load(open('train.pkl', 'rb'))\n",
    "\n",
    "else:\n",
    "    # Full filepaths\n",
    "    file_paths = []\n",
    "    subjects = glob.glob('*')\n",
    "    for subject in subjects:\n",
    "        for i in range(1,5):\n",
    "            facial_pics = glob.glob(f'{subject}/*{i}_f*') # Look for only face pictures, labeled 1-4\n",
    "            for partial_path in facial_pics:\n",
    "                file_paths.append(os.path.join(HOME,partial_path))\n",
    "            if not facial_pics:\n",
    "                print(f'{subject}/{i}_f file not found')\n",
    "\n",
    "    X_train,y_train = read_images(file_paths)\n",
    "    pickle.dump((X_train,y_train), open('train.pkl', 'wb'))"
   ]
  },
  {
   "cell_type": "code",
   "execution_count": 4,
   "metadata": {
    "ExecuteTime": {
     "end_time": "2020-03-26T19:00:43.574339Z",
     "start_time": "2020-03-26T19:00:43.551897Z"
    }
   },
   "outputs": [],
   "source": [
    "os.chdir(os.path.join(DATA_DIR,'test'))\n",
    "HOME = os.getcwd()\n",
    "\n",
    "X_test = None\n",
    "y_test = None\n",
    "if os.path.exists('test.pkl'):\n",
    "    (X_test,y_test) = pickle.load(open('test.pkl', 'rb'))\n",
    "\n",
    "else:\n",
    "    # Full filepaths\n",
    "    file_paths = []\n",
    "    subjects = glob.glob('*')\n",
    "    for subject in subjects:\n",
    "        for i in range(1,5):\n",
    "            facial_pics = glob.glob(f'{subject}/*{i}_f*') # Look for only face pictures, labeled 1-4\n",
    "            for partial_path in facial_pics:\n",
    "                file_paths.append(os.path.join(HOME,partial_path))\n",
    "            if not facial_pics:\n",
    "                print(f'{subject}/{i}_f file not found')\n",
    "\n",
    "    X_test,y_test = read_images(file_paths)\n",
    "    pickle.dump((X_test,y_test), open('test.pkl', 'wb'))"
   ]
  },
  {
   "cell_type": "code",
   "execution_count": 5,
   "metadata": {
    "ExecuteTime": {
     "end_time": "2020-03-26T19:00:43.592335Z",
     "start_time": "2020-03-26T19:00:43.575810Z"
    }
   },
   "outputs": [],
   "source": [
    "os.chdir(os.path.join(DATA_DIR,'validation'))\n",
    "HOME = os.getcwd()\n",
    "\n",
    "X_val = None\n",
    "y_val = None\n",
    "if os.path.exists('validation.pkl'):\n",
    "    (X_val,y_val) = pickle.load(open('validation.pkl', 'rb'))\n",
    "\n",
    "else:\n",
    "    # Full filepaths\n",
    "    file_paths = []\n",
    "    subjects = glob.glob('*')\n",
    "    for subject in subjects:\n",
    "        for i in range(1,5):\n",
    "            facial_pics = glob.glob(f'{subject}/*{i}_f*') # Look for only face pictures, labeled 1-4\n",
    "            for partial_path in facial_pics:\n",
    "                file_paths.append(os.path.join(HOME,partial_path))\n",
    "            if not facial_pics:\n",
    "                print(f'{subject}/{i}_f file not found')\n",
    "\n",
    "    X_val,y_val = read_images(file_paths)\n",
    "    pickle.dump((X_val,y_val), open('validation.pkl', 'wb'))"
   ]
  },
  {
   "cell_type": "code",
   "execution_count": 6,
   "metadata": {
    "ExecuteTime": {
     "end_time": "2020-03-26T19:00:43.602341Z",
     "start_time": "2020-03-26T19:00:43.593942Z"
    }
   },
   "outputs": [
    {
     "data": {
      "text/plain": [
       "24"
      ]
     },
     "execution_count": 6,
     "metadata": {},
     "output_type": "execute_result"
    }
   ],
   "source": [
    "len(y_val)"
   ]
  },
  {
   "cell_type": "code",
   "execution_count": 7,
   "metadata": {
    "ExecuteTime": {
     "end_time": "2020-03-26T19:00:43.910745Z",
     "start_time": "2020-03-26T19:00:43.603829Z"
    }
   },
   "outputs": [
    {
     "data": {
      "text/plain": [
       "<matplotlib.image.AxesImage at 0x7fd0c2185a50>"
      ]
     },
     "execution_count": 7,
     "metadata": {},
     "output_type": "execute_result"
    },
    {
     "data": {
      "image/png": "[encoded data removed]",
      "text/plain": [
       "<Figure size 432x288 with 1 Axes>"
      ]
     },
     "metadata": {
      "needs_background": "light"
     },
     "output_type": "display_data"
    }
   ],
   "source": [
    "from matplotlib import pyplot\n",
    "\n",
    "pyplot.imshow(X_train[0], cmap='gray')"
   ]
  },
  {
   "cell_type": "code",
   "execution_count": 8,
   "metadata": {
    "ExecuteTime": {
     "end_time": "2020-03-26T19:00:44.037071Z",
     "start_time": "2020-03-26T19:00:43.912970Z"
    }
   },
   "outputs": [
    {
     "data": {
      "text/plain": [
       "<matplotlib.image.AxesImage at 0x7fd0c1c6fc90>"
      ]
     },
     "execution_count": 8,
     "metadata": {},
     "output_type": "execute_result"
    },
    {
     "data": {
      "image/png": "[encoded data removed]",
      "text/plain": [
       "<Figure size 432x288 with 1 Axes>"
      ]
     },
     "metadata": {
      "needs_background": "light"
     },
     "output_type": "display_data"
    }
   ],
   "source": [
    "pyplot.imshow(X_train[84], cmap='gray')"
   ]
  },
  {
   "cell_type": "code",
   "execution_count": 9,
   "metadata": {
    "ExecuteTime": {
     "end_time": "2020-03-26T19:00:46.460882Z",
     "start_time": "2020-03-26T19:00:44.038963Z"
    }
   },
   "outputs": [],
   "source": [
    "import tensorflow as tf\n",
    "\n",
    "X_train = tf.keras.utils.normalize(X_train, axis=1)\n",
    "X_test = tf.keras.utils.normalize(X_test, axis=1)\n",
    "X_val = tf.keras.utils.normalize(X_val, axis=1)"
   ]
  },
  {
   "cell_type": "code",
   "execution_count": 10,
   "metadata": {
    "ExecuteTime": {
     "end_time": "2020-03-26T19:00:46.465021Z",
     "start_time": "2020-03-26T19:00:46.462440Z"
    }
   },
   "outputs": [],
   "source": [
    "# Attempt at facial recognition\n",
    "\n",
    "# import cv2\n",
    "# HOME = os.getcwd()\n",
    "# face_cascade = cv2.CascadeClassifier(os.path.join(HOME,'haarcascade_frontalface_alt2.xml'))\n",
    "\n",
    "# img = X_train[0]*255\n",
    "# img = np.array(img, dtype='uint8')\n",
    "\n",
    "# # detect\n",
    "# faces = face_cascade.detectMultiScale(img, minSize=(50,100), scaleFactor=1.05, minNeighbors=0, flags=cv2.CASCADE_SCALE_IMAGE)\n",
    "\n",
    "# face_roi = None\n",
    "# # draw boxes around ROI\n",
    "# for (x,y,w,h) in faces:\n",
    "#     face_roi = img[y:y+h,x:x+w]\n",
    "#     cv2.rectangle(img, (x,y), (x+w,y+h), (0,0,255), 4)\n",
    "    \n",
    "\n",
    "# display(Image.fromarray(img))\n",
    "# if face_roi:\n",
    "#     display(Image.fromarray(face_roi))"
   ]
  },
  {
   "cell_type": "code",
   "execution_count": 11,
   "metadata": {
    "ExecuteTime": {
     "end_time": "2020-03-26T19:00:46.719658Z",
     "start_time": "2020-03-26T19:00:46.466732Z"
    }
   },
   "outputs": [],
   "source": [
    "# Shuffle X_train and y_train together\n",
    "from sklearn.utils import shuffle\n",
    "\n",
    "a = ['a', 'b', 'c','d','e']\n",
    "b = [1, 2, 3, 4, 5]\n",
    "\n",
    "X_train_s, y_train_s = shuffle(X_train, y_train)"
   ]
  },
  {
   "cell_type": "code",
   "execution_count": null,
   "metadata": {
    "ExecuteTime": {
     "start_time": "2020-03-26T19:13:39.387Z"
    }
   },
   "outputs": [
    {
     "name": "stdout",
     "output_type": "stream",
     "text": [
      "WARNING:tensorflow:sample_weight modes were coerced from\n",
      "  ...\n",
      "    to  \n",
      "  ['...']\n",
      "WARNING:tensorflow:sample_weight modes were coerced from\n",
      "  ...\n",
      "    to  \n",
      "  ['...']\n",
      "Train on 103 samples, validate on 24 samples\n",
      "Epoch 1/50\n",
      " 32/103 [========>.....................] - ETA: 6s - loss: 1.5600 - accuracy: 0.3125"
     ]
    }
   ],
   "source": [
    "import tensorflow as tf\n",
    "from tensorflow.keras.datasets import cifar10\n",
    "from tensorflow.keras.preprocessing.image import ImageDataGenerator\n",
    "from tensorflow.keras.models import Sequential\n",
    "from tensorflow.keras.layers import Dense, Dropout, Activation, Flatten\n",
    "from tensorflow.keras.layers import Conv2D, MaxPooling2D\n",
    "import tensorflow.keras.metrics\n",
    "\n",
    "model = Sequential()\n",
    "\n",
    "x,y = X_train.shape[1:]\n",
    "model.add(Conv2D(256, (3, 3), input_shape=(x,y,1)))\n",
    "model.add(Activation('relu'))\n",
    "model.add(MaxPooling2D(pool_size=(2, 2)))\n",
    "\n",
    "model.add(Conv2D(256, (3, 3)))\n",
    "model.add(Activation('relu'))\n",
    "model.add(MaxPooling2D(pool_size=(2, 2)))\n",
    "\n",
    "model.add(Flatten())  # this converts our 3D feature maps to 1D feature vectors\n",
    "\n",
    "model.add(Dense(64))\n",
    "\n",
    "model.add(Dense(1))\n",
    "model.add(Activation('sigmoid'))\n",
    "\n",
    "METRICS = [\n",
    "      tensorflow.keras.metrics.TruePositives(name='tp'),\n",
    "      tensorflow.keras.metrics.FalsePositives(name='fp'),\n",
    "      tensorflow.keras.metrics.TrueNegatives(name='tn'),\n",
    "      tensorflow.keras.metrics.FalseNegatives(name='fn'), \n",
    "      tensorflow.keras.metrics.BinaryAccuracy(name='accuracy'),\n",
    "      tensorflow.keras.metrics.Precision(name='precision'),\n",
    "      tensorflow.keras.metrics.Recall(name='recall'),\n",
    "      tensorflow.keras.metrics.AUC(name='auc'),\n",
    "]\n",
    "\n",
    "model.compile(loss='binary_crossentropy',\n",
    "              optimizer='adam',\n",
    "              metrics=['accuracy'])\n",
    "\n",
    "input_data = X_train_s.reshape((-1, x, y, 1))\n",
    "val_data = X_val.reshape((-1, x, y, 1))\n",
    "\n",
    "# Treat every sober image with same weight as 3 drunk images\n",
    "class_weight = {0: 1, 1: 3}\n",
    "\n",
    "model.fit(input_data, np.array(y_train_s), \n",
    "          batch_size=32, \n",
    "          epochs=50, \n",
    "          validation_data=(val_data,np.array(y_val)), \n",
    "          class_weight=class_weight,\n",
    "          use_multiprocessing=True)"
   ]
  },
  {
   "cell_type": "code",
   "execution_count": 30,
   "metadata": {
    "ExecuteTime": {
     "end_time": "2020-03-26T19:13:24.436011Z",
     "start_time": "2020-03-26T19:13:22.624350Z"
    }
   },
   "outputs": [
    {
     "name": "stdout",
     "output_type": "stream",
     "text": [
      "35/35 [==============================] - 1s 26ms/sample - loss: 0.5847 - accuracy: 0.7429\n",
      "0.5847239396401814\n",
      "0.74285716\n"
     ]
    }
   ],
   "source": [
    "test_data = X_test.reshape((-1, x, y, 1))\n",
    "val_loss, val_acc = model.evaluate(test_data, np.array(y_test))\n",
    "print(val_loss)\n",
    "print(val_acc)\n",
    "\n",
    "predictions = model.predict(test_data)"
   ]
  },
  {
   "cell_type": "code",
   "execution_count": 31,
   "metadata": {
    "ExecuteTime": {
     "end_time": "2020-03-26T19:13:25.357541Z",
     "start_time": "2020-03-26T19:13:24.482750Z"
    }
   },
   "outputs": [
    {
     "data": {
      "text/plain": [
       "0.7428571428571429"
      ]
     },
     "execution_count": 31,
     "metadata": {},
     "output_type": "execute_result"
    }
   ],
   "source": [
    "import matplotlib.pyplot as plt\n",
    "from sklearn.metrics import accuracy_score\n",
    "\n",
    "y_pred = []\n",
    "predictions = model.predict(test_data)\n",
    "for predict in predictions:\n",
    "    y_pred.append(int(round(predict[0])))\n",
    "\n",
    "accuracy_score(y_test,y_pred)"
   ]
  },
  {
   "cell_type": "code",
   "execution_count": 32,
   "metadata": {
    "ExecuteTime": {
     "end_time": "2020-03-26T19:13:26.337322Z",
     "start_time": "2020-03-26T19:13:26.325027Z"
    }
   },
   "outputs": [
    {
     "name": "stdout",
     "output_type": "stream",
     "text": [
      "Actual: 0, Pred: 1\n",
      "Actual: 1, Pred: 1\n",
      "Actual: 1, Pred: 1\n",
      "Actual: 1, Pred: 1\n",
      "Actual: 0, Pred: 1\n",
      "Actual: 1, Pred: 1\n",
      "Actual: 1, Pred: 1\n",
      "Actual: 1, Pred: 1\n",
      "Actual: 0, Pred: 1\n",
      "Actual: 1, Pred: 1\n",
      "Actual: 1, Pred: 1\n",
      "Actual: 1, Pred: 1\n",
      "Actual: 0, Pred: 1\n",
      "Actual: 1, Pred: 1\n",
      "Actual: 1, Pred: 0\n",
      "Actual: 1, Pred: 1\n",
      "Actual: 0, Pred: 1\n",
      "Actual: 1, Pred: 1\n",
      "Actual: 1, Pred: 1\n",
      "Actual: 1, Pred: 1\n",
      "Actual: 1, Pred: 1\n",
      "Actual: 1, Pred: 1\n",
      "Actual: 1, Pred: 1\n",
      "Actual: 0, Pred: 1\n",
      "Actual: 1, Pred: 1\n",
      "Actual: 1, Pred: 1\n",
      "Actual: 1, Pred: 1\n",
      "Actual: 0, Pred: 1\n",
      "Actual: 1, Pred: 1\n",
      "Actual: 1, Pred: 1\n",
      "Actual: 1, Pred: 1\n",
      "Actual: 0, Pred: 1\n",
      "Actual: 1, Pred: 1\n",
      "Actual: 1, Pred: 1\n",
      "Actual: 1, Pred: 1\n"
     ]
    }
   ],
   "source": [
    "for actual,pred in zip(y_test,y_pred):\n",
    "    print(f'Actual: {actual}, Pred: {pred}')"
   ]
  },
  {
   "cell_type": "code",
   "execution_count": null,
   "metadata": {
    "ExecuteTime": {
     "end_time": "2020-03-26T19:00:47.129004Z",
     "start_time": "2020-03-26T19:00:43.307Z"
    }
   },
   "outputs": [],
   "source": [
    "y_pred"
   ]
  }
 ],
 "metadata": {
  "kernelspec": {
   "display_name": "Python 3",
   "language": "python",
   "name": "python3"
  },
  "language_info": {
   "codemirror_mode": {
    "name": "ipython",
    "version": 3
   },
   "file_extension": ".py",
   "mimetype": "text/x-python",
   "name": "python",
   "nbconvert_exporter": "python",
   "pygments_lexer": "ipython3",
   "version": "3.7.7"
  },
  "varInspector": {
   "cols": {
    "lenName": 16,
    "lenType": 16,
    "lenVar": 40
   },
   "kernels_config": {
    "python": {
     "delete_cmd_postfix": "",
     "delete_cmd_prefix": "del ",
     "library": "var_list.py",
     "varRefreshCmd": "print(var_dic_list())"
    },
    "r": {
     "delete_cmd_postfix": ") ",
     "delete_cmd_prefix": "rm(",
     "library": "var_list.r",
     "varRefreshCmd": "cat(var_dic_list()) "
    }
   },
   "position": {
    "height": "144px",
    "left": "23px",
    "right": "20px",
    "top": "597px",
    "width": "350px"
   },
   "types_to_exclude": [
    "module",
    "function",
    "builtin_function_or_method",
    "instance",
    "_Feature"
   ],
   "window_display": false
  }
 },
 "nbformat": 4,
 "nbformat_minor": 4
}
