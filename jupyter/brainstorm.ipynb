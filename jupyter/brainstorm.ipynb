{
 "cells": [
  {
   "cell_type": "code",
   "execution_count": 1,
   "metadata": {
    "ExecuteTime": {
     "end_time": "2020-03-27T16:43:18.524503Z",
     "start_time": "2020-03-27T16:43:18.359931Z"
    }
   },
   "outputs": [],
   "source": [
    "import numpy as np\n",
    "from PIL import Image\n",
    "\n",
    "def read_images(file_paths):\n",
    "    X = []\n",
    "    y = [] # 0 if sober, 1 if drunk\n",
    "    \n",
    "    for file_name in file_paths:\n",
    "        thermal_data = np.zeros((128, 160))\n",
    "        with Image.open(file_name) as img:\n",
    "            for i in range(img.n_frames):\n",
    "                img.seek(i)\n",
    "                frame_data = np.array(img)\n",
    "                min_val = np.amin(frame_data)\n",
    "                frame_data -= min_val\n",
    "                for j in range(img.height):\n",
    "                    for k in range(img.width):\n",
    "                        thermal_data[j, k] += frame_data[j, k]\n",
    "        X.append(thermal_data)\n",
    "        \n",
    "        if '_1_f' in file_name: # Only first pic in series is sober data\n",
    "            y.append(0)\n",
    "        else:\n",
    "            y.append(1)\n",
    "\n",
    "        print(file_name)\n",
    "        print(thermal_data)\n",
    "    return X,y"
   ]
  },
  {
   "cell_type": "code",
   "execution_count": 2,
   "metadata": {
    "ExecuteTime": {
     "end_time": "2020-03-27T16:43:18.566533Z",
     "start_time": "2020-03-27T16:43:18.526282Z"
    }
   },
   "outputs": [],
   "source": [
    "import os\n",
    "import glob\n",
    "import matplotlib as plt\n",
    "\n",
    "DIR_NAME = 'data'\n",
    "\n",
    "os.chdir(f'../{DIR_NAME}')\n",
    "DATA_DIR = os.getcwd()"
   ]
  },
  {
   "cell_type": "code",
   "execution_count": 3,
   "metadata": {
    "ExecuteTime": {
     "end_time": "2020-03-27T16:43:18.600850Z",
     "start_time": "2020-03-27T16:43:18.568349Z"
    }
   },
   "outputs": [],
   "source": [
    "os.chdir(os.path.join(DATA_DIR,'train'))\n",
    "HOME = os.getcwd()\n",
    "\n",
    "import pickle\n",
    "\n",
    "X_train = None\n",
    "y_train = None\n",
    "if os.path.exists('train.pkl'):\n",
    "    (X_train,y_train) = pickle.load(open('train.pkl', 'rb'))\n",
    "\n",
    "else:\n",
    "    # Full filepaths\n",
    "    file_paths = []\n",
    "    subjects = glob.glob('*')\n",
    "    for subject in subjects:\n",
    "        for i in range(1,5):\n",
    "            facial_pics = glob.glob(f'{subject}/*{i}_f*') # Look for only face pictures, labeled 1-4\n",
    "            for partial_path in facial_pics:\n",
    "                file_paths.append(os.path.join(HOME,partial_path))\n",
    "            if not facial_pics:\n",
    "                print(f'{subject}/{i}_f file not found')\n",
    "\n",
    "    X_train,y_train = read_images(file_paths)\n",
    "    pickle.dump((X_train,y_train), open('train.pkl', 'wb'))"
   ]
  },
  {
   "cell_type": "code",
   "execution_count": 4,
   "metadata": {
    "ExecuteTime": {
     "end_time": "2020-03-27T16:43:18.620351Z",
     "start_time": "2020-03-27T16:43:18.602480Z"
    }
   },
   "outputs": [],
   "source": [
    "os.chdir(os.path.join(DATA_DIR,'test'))\n",
    "HOME = os.getcwd()\n",
    "\n",
    "X_test = None\n",
    "y_test = None\n",
    "if os.path.exists('test.pkl'):\n",
    "    (X_test,y_test) = pickle.load(open('test.pkl', 'rb'))\n",
    "\n",
    "else:\n",
    "    # Full filepaths\n",
    "    file_paths = []\n",
    "    subjects = glob.glob('*')\n",
    "    for subject in subjects:\n",
    "        for i in range(1,5):\n",
    "            facial_pics = glob.glob(f'{subject}/*{i}_f*') # Look for only face pictures, labeled 1-4\n",
    "            for partial_path in facial_pics:\n",
    "                file_paths.append(os.path.join(HOME,partial_path))\n",
    "            if not facial_pics:\n",
    "                print(f'{subject}/{i}_f file not found')\n",
    "\n",
    "    X_test,y_test = read_images(file_paths)\n",
    "    pickle.dump((X_test,y_test), open('test.pkl', 'wb'))"
   ]
  },
  {
   "cell_type": "code",
   "execution_count": 5,
   "metadata": {
    "ExecuteTime": {
     "end_time": "2020-03-27T16:43:18.639078Z",
     "start_time": "2020-03-27T16:43:18.621908Z"
    }
   },
   "outputs": [],
   "source": [
    "os.chdir(os.path.join(DATA_DIR,'validation'))\n",
    "HOME = os.getcwd()\n",
    "\n",
    "X_val = None\n",
    "y_val = None\n",
    "if os.path.exists('validation.pkl'):\n",
    "    (X_val,y_val) = pickle.load(open('validation.pkl', 'rb'))\n",
    "\n",
    "else:\n",
    "    # Full filepaths\n",
    "    file_paths = []\n",
    "    subjects = glob.glob('*')\n",
    "    for subject in subjects:\n",
    "        for i in range(1,5):\n",
    "            facial_pics = glob.glob(f'{subject}/*{i}_f*') # Look for only face pictures, labeled 1-4\n",
    "            for partial_path in facial_pics:\n",
    "                file_paths.append(os.path.join(HOME,partial_path))\n",
    "            if not facial_pics:\n",
    "                print(f'{subject}/{i}_f file not found')\n",
    "\n",
    "    X_val,y_val = read_images(file_paths)\n",
    "    pickle.dump((X_val,y_val), open('validation.pkl', 'wb'))"
   ]
  },
  {
   "cell_type": "code",
   "execution_count": 6,
   "metadata": {
    "ExecuteTime": {
     "end_time": "2020-03-27T16:43:18.648622Z",
     "start_time": "2020-03-27T16:43:18.640656Z"
    }
   },
   "outputs": [
    {
     "data": {
      "text/plain": [
       "24"
      ]
     },
     "execution_count": 6,
     "metadata": {},
     "output_type": "execute_result"
    }
   ],
   "source": [
    "len(y_val)"
   ]
  },
  {
   "cell_type": "code",
   "execution_count": 6,
   "metadata": {
    "ExecuteTime": {
     "end_time": "2020-03-27T16:43:18.947365Z",
     "start_time": "2020-03-27T16:43:18.650112Z"
    }
   },
   "outputs": [
    {
     "data": {
      "text/plain": [
       "412"
      ]
     },
     "execution_count": 6,
     "metadata": {},
     "output_type": "execute_result"
    }
   ],
   "source": [
    "from imgaug import augmenters as iaa\n",
    "\n",
    "flip_seq = iaa.Sequential([\n",
    "    iaa.Fliplr(1), # horizontally flip all of the images\n",
    "])\n",
    "\n",
    "trans_seq = iaa.Sequential([\n",
    "    # iaa.Add((-5, 5)), # randomly +- 5 to pixel values\n",
    "    iaa.CropAndPad(percent=(-0.1, 0.1)) # https://imgaug.readthedocs.io/en/latest/source/overview/size.html#cropandpad\n",
    "])\n",
    "\n",
    "# 'images' should be either a 4D numpy array of shape (N, height, width, channels)\n",
    "# or a list of 3D numpy arrays, each having shape (height, width, channels).\n",
    "# Grayscale images must have shape (height, width, 1) each.\n",
    "# All images must have numpy's dtype uint8. Values are expected to be in\n",
    "# range 0-255.\n",
    "\n",
    "# Add flipped images to train and val sets\n",
    "X_train_flipped = flip_seq(images=X_train)\n",
    "X_train = np.concatenate((X_train, X_train_flipped), axis=0)\n",
    "y_train = np.concatenate((y_train, y_train), axis=0)\n",
    "\n",
    "X_val_flipped = flip_seq(images=X_val)\n",
    "X_val = np.concatenate((X_val, X_val_flipped), axis=0)\n",
    "y_val = np.concatenate((y_val, y_val), axis=0)\n",
    "\n",
    "# Add flipped images to train and val sets\n",
    "X_train_trans = trans_seq(images=X_train)\n",
    "X_train = np.concatenate((X_train, X_train_trans), axis=0)\n",
    "y_train = np.concatenate((y_train, y_train), axis=0)\n",
    "\n",
    "X_val_trans = trans_seq(images=X_val)\n",
    "X_val = np.concatenate((X_val, X_val_trans), axis=0)\n",
    "y_val = np.concatenate((y_val, y_val), axis=0)\n",
    "\n",
    "# for i,img in enumerate(X_train_flipped):\n",
    "#     display(Image.fromarray(img*1000).convert('L'))\n",
    "#     input(\"Enter to continue:\")\n",
    "\n",
    "len(X_train)"
   ]
  },
  {
   "cell_type": "code",
   "execution_count": 8,
   "metadata": {
    "ExecuteTime": {
     "end_time": "2020-03-27T16:43:19.074100Z",
     "start_time": "2020-03-27T16:43:18.949638Z"
    },
    "scrolled": true
   },
   "outputs": [
    {
     "data": {
      "image/png": "[encoded data removed]",
      "text/plain": [
       "<PIL.Image.Image image mode=L size=160x128 at 0x7FA5A5FCAF50>"
      ]
     },
     "metadata": {},
     "output_type": "display_data"
    },
    {
     "data": {
      "image/png": "[encoded data removed]",
      "text/plain": [
       "<Figure size 432x288 with 1 Axes>"
      ]
     },
     "metadata": {
      "needs_background": "light"
     },
     "output_type": "display_data"
    }
   ],
   "source": [
    "from matplotlib import pyplot\n",
    "pyplot.imshow(X_train[84], cmap='gray')\n",
    "display(Image.fromarray(X_train[1]*2000).convert('L'))"
   ]
  },
  {
   "cell_type": "code",
   "execution_count": 7,
   "metadata": {
    "ExecuteTime": {
     "end_time": "2020-03-27T16:43:21.301753Z",
     "start_time": "2020-03-27T16:43:19.075729Z"
    }
   },
   "outputs": [],
   "source": [
    "import tensorflow as tf\n",
    "\n",
    "X_train = tf.keras.utils.normalize(X_train, axis=1)\n",
    "X_test = tf.keras.utils.normalize(X_test, axis=1)\n",
    "X_val = tf.keras.utils.normalize(X_val, axis=1)"
   ]
  },
  {
   "cell_type": "code",
   "execution_count": 10,
   "metadata": {
    "ExecuteTime": {
     "end_time": "2020-03-27T16:43:21.305893Z",
     "start_time": "2020-03-27T16:43:21.303339Z"
    }
   },
   "outputs": [],
   "source": [
    "# Attempt at facial recognition\n",
    "\n",
    "# import cv2\n",
    "# HOME = os.getcwd()\n",
    "# face_cascade = cv2.CascadeClassifier(os.path.join(HOME,'haarcascade_frontalface_alt2.xml'))\n",
    "\n",
    "# img = X_train[0]*255\n",
    "# img = np.array(img, dtype='uint8')\n",
    "\n",
    "# # detect\n",
    "# faces = face_cascade.detectMultiScale(img, minSize=(50,100), scaleFactor=1.05, minNeighbors=0, flags=cv2.CASCADE_SCALE_IMAGE)\n",
    "\n",
    "# face_roi = None\n",
    "# # draw boxes around ROI\n",
    "# for (x,y,w,h) in faces:\n",
    "#     face_roi = img[y:y+h,x:x+w]\n",
    "#     cv2.rectangle(img, (x,y), (x+w,y+h), (0,0,255), 4)\n",
    "    \n",
    "\n",
    "# display(Image.fromarray(img))\n",
    "# if face_roi:\n",
    "#     display(Image.fromarray(face_roi))"
   ]
  },
  {
   "cell_type": "code",
   "execution_count": 8,
   "metadata": {
    "ExecuteTime": {
     "end_time": "2020-03-27T17:19:44.429986Z",
     "start_time": "2020-03-27T17:19:44.426382Z"
    }
   },
   "outputs": [],
   "source": [
    "# Shuffle X_train and y_train together\n",
    "from sklearn.utils import shuffle\n",
    "\n",
    "def shuffle_data(X, y):\n",
    "    X_s, y_s = shuffle(X, y)\n",
    "    return X_s, y_s"
   ]
  },
  {
   "cell_type": "code",
   "execution_count": 10,
   "metadata": {
    "ExecuteTime": {
     "start_time": "2020-03-27T17:34:33.770Z"
    },
    "scrolled": true
   },
   "outputs": [
    {
     "name": "stdout",
     "output_type": "stream",
     "text": [
      "WARNING:tensorflow:sample_weight modes were coerced from\n",
      "  ...\n",
      "    to  \n",
      "  ['...']\n",
      "WARNING:tensorflow:sample_weight modes were coerced from\n",
      "  ...\n",
      "    to  \n",
      "  ['...']\n",
      "Train on 412 samples, validate on 96 samples\n",
      "Epoch 1/1000\n",
      "412/412 [==============================] - 39s 94ms/sample - loss: 0.1389 - tp: 308.0000 - fp: 104.0000 - tn: 0.0000e+00 - fn: 0.0000e+00 - accuracy: 0.7476 - precision: 0.7476 - recall: 1.0000 - auc: 0.5285 - bce: 0.8761 - val_loss: 0.1195 - val_tp: 72.0000 - val_fp: 24.0000 - val_tn: 0.0000e+00 - val_fn: 0.0000e+00 - val_accuracy: 0.7500 - val_precision: 0.7500 - val_recall: 1.0000 - val_auc: 0.5457 - val_bce: 0.5619\n",
      "Epoch 2/1000\n",
      "412/412 [==============================] - 36s 87ms/sample - loss: 0.1123 - tp: 308.0000 - fp: 104.0000 - tn: 0.0000e+00 - fn: 0.0000e+00 - accuracy: 0.7476 - precision: 0.7476 - recall: 1.0000 - auc: 0.4959 - bce: 0.6799 - val_loss: 0.1072 - val_tp: 72.0000 - val_fp: 24.0000 - val_tn: 0.0000e+00 - val_fn: 0.0000e+00 - val_accuracy: 0.7500 - val_precision: 0.7500 - val_recall: 1.0000 - val_auc: 0.5431 - val_bce: 0.5834\n",
      "Epoch 3/1000\n",
      "412/412 [==============================] - 38s 92ms/sample - loss: 0.1046 - tp: 308.0000 - fp: 104.0000 - tn: 0.0000e+00 - fn: 0.0000e+00 - accuracy: 0.7476 - precision: 0.7476 - recall: 1.0000 - auc: 0.5401 - bce: 0.6752 - val_loss: 0.1054 - val_tp: 72.0000 - val_fp: 24.0000 - val_tn: 0.0000e+00 - val_fn: 0.0000e+00 - val_accuracy: 0.7500 - val_precision: 0.7500 - val_recall: 1.0000 - val_auc: 0.5284 - val_bce: 0.6050\n",
      "Epoch 4/1000\n",
      "412/412 [==============================] - 36s 87ms/sample - loss: 0.0996 - tp: 308.0000 - fp: 104.0000 - tn: 0.0000e+00 - fn: 0.0000e+00 - accuracy: 0.7476 - precision: 0.7476 - recall: 1.0000 - auc: 0.6112 - bce: 0.6448 - val_loss: 0.1046 - val_tp: 72.0000 - val_fp: 24.0000 - val_tn: 0.0000e+00 - val_fn: 0.0000e+00 - val_accuracy: 0.7500 - val_precision: 0.7500 - val_recall: 1.0000 - val_auc: 0.5234 - val_bce: 0.6561\n",
      "Epoch 5/1000\n",
      "412/412 [==============================] - 37s 91ms/sample - loss: 0.0953 - tp: 308.0000 - fp: 104.0000 - tn: 0.0000e+00 - fn: 0.0000e+00 - accuracy: 0.7476 - precision: 0.7476 - recall: 1.0000 - auc: 0.6963 - bce: 0.6124 - val_loss: 0.1119 - val_tp: 72.0000 - val_fp: 24.0000 - val_tn: 0.0000e+00 - val_fn: 0.0000e+00 - val_accuracy: 0.7500 - val_precision: 0.7500 - val_recall: 1.0000 - val_auc: 0.5162 - val_bce: 0.6128\n",
      "Epoch 6/1000\n",
      "412/412 [==============================] - 38s 93ms/sample - loss: 0.0921 - tp: 308.0000 - fp: 102.0000 - tn: 2.0000 - fn: 0.0000e+00 - accuracy: 0.7524 - precision: 0.7512 - recall: 1.0000 - auc: 0.7219 - bce: 0.5729 - val_loss: 0.1134 - val_tp: 72.0000 - val_fp: 23.0000 - val_tn: 1.0000 - val_fn: 0.0000e+00 - val_accuracy: 0.7604 - val_precision: 0.7579 - val_recall: 1.0000 - val_auc: 0.5451 - val_bce: 0.6287\n",
      "Epoch 7/1000\n",
      "412/412 [==============================] - 38s 93ms/sample - loss: 0.0882 - tp: 308.0000 - fp: 102.0000 - tn: 2.0000 - fn: 0.0000e+00 - accuracy: 0.7524 - precision: 0.7512 - recall: 1.0000 - auc: 0.7692 - bce: 0.5460 - val_loss: 0.1071 - val_tp: 72.0000 - val_fp: 21.0000 - val_tn: 3.0000 - val_fn: 0.0000e+00 - val_accuracy: 0.7812 - val_precision: 0.7742 - val_recall: 1.0000 - val_auc: 0.5715 - val_bce: 0.6572\n",
      "Epoch 8/1000\n",
      "412/412 [==============================] - 38s 92ms/sample - loss: 0.0817 - tp: 308.0000 - fp: 98.0000 - tn: 6.0000 - fn: 0.0000e+00 - accuracy: 0.7621 - precision: 0.7586 - recall: 1.0000 - auc: 0.8061 - bce: 0.5269 - val_loss: 0.1391 - val_tp: 60.0000 - val_fp: 14.0000 - val_tn: 10.0000 - val_fn: 12.0000 - val_accuracy: 0.7292 - val_precision: 0.8108 - val_recall: 0.8333 - val_auc: 0.6166 - val_bce: 0.5979\n",
      "Epoch 9/1000\n",
      "412/412 [==============================] - 39s 94ms/sample - loss: 0.0774 - tp: 306.0000 - fp: 90.0000 - tn: 14.0000 - fn: 2.0000 - accuracy: 0.7767 - precision: 0.7727 - recall: 0.9935 - auc: 0.8366 - bce: 0.4772 - val_loss: 0.1142 - val_tp: 66.0000 - val_fp: 13.0000 - val_tn: 11.0000 - val_fn: 6.0000 - val_accuracy: 0.8021 - val_precision: 0.8354 - val_recall: 0.9167 - val_auc: 0.6508 - val_bce: 0.6039\n",
      "Epoch 10/1000\n",
      "412/412 [==============================] - 38s 92ms/sample - loss: 0.0688 - tp: 307.0000 - fp: 76.0000 - tn: 28.0000 - fn: 1.0000 - accuracy: 0.8131 - precision: 0.8016 - recall: 0.9968 - auc: 0.8693 - bce: 0.4245 - val_loss: 0.1280 - val_tp: 62.0000 - val_fp: 12.0000 - val_tn: 12.0000 - val_fn: 10.0000 - val_accuracy: 0.7708 - val_precision: 0.8378 - val_recall: 0.8611 - val_auc: 0.6791 - val_bce: 0.5823\n",
      "Epoch 11/1000\n",
      "412/412 [==============================] - 38s 93ms/sample - loss: 0.0653 - tp: 307.0000 - fp: 69.0000 - tn: 35.0000 - fn: 1.0000 - accuracy: 0.8301 - precision: 0.8165 - recall: 0.9968 - auc: 0.8874 - bce: 0.4148 - val_loss: 0.1608 - val_tp: 55.0000 - val_fp: 10.0000 - val_tn: 14.0000 - val_fn: 17.0000 - val_accuracy: 0.7188 - val_precision: 0.8462 - val_recall: 0.7639 - val_auc: 0.7130 - val_bce: 0.6351\n",
      "Epoch 12/1000\n",
      "412/412 [==============================] - 38s 92ms/sample - loss: 0.0585 - tp: 306.0000 - fp: 58.0000 - tn: 46.0000 - fn: 2.0000 - accuracy: 0.8544 - precision: 0.8407 - recall: 0.9935 - auc: 0.9141 - bce: 0.3499 - val_loss: 0.1639 - val_tp: 54.0000 - val_fp: 10.0000 - val_tn: 14.0000 - val_fn: 18.0000 - val_accuracy: 0.7083 - val_precision: 0.8438 - val_recall: 0.7500 - val_auc: 0.7205 - val_bce: 0.5933\n",
      "Epoch 13/1000\n",
      "412/412 [==============================] - 38s 92ms/sample - loss: 0.0571 - tp: 306.0000 - fp: 59.0000 - tn: 45.0000 - fn: 2.0000 - accuracy: 0.8519 - precision: 0.8384 - recall: 0.9935 - auc: 0.9159 - bce: 0.3499 - val_loss: 0.1331 - val_tp: 60.0000 - val_fp: 10.0000 - val_tn: 14.0000 - val_fn: 12.0000 - val_accuracy: 0.7708 - val_precision: 0.8571 - val_recall: 0.8333 - val_auc: 0.7072 - val_bce: 0.5897\n",
      "Epoch 14/1000\n",
      "412/412 [==============================] - 38s 92ms/sample - loss: 0.0511 - tp: 304.0000 - fp: 48.0000 - tn: 56.0000 - fn: 4.0000 - accuracy: 0.8738 - precision: 0.8636 - recall: 0.9870 - auc: 0.9386 - bce: 0.2928 - val_loss: 0.1185 - val_tp: 62.0000 - val_fp: 10.0000 - val_tn: 14.0000 - val_fn: 10.0000 - val_accuracy: 0.7917 - val_precision: 0.8611 - val_recall: 0.8611 - val_auc: 0.7459 - val_bce: 0.6135\n",
      "Epoch 15/1000\n",
      "412/412 [==============================] - 39s 94ms/sample - loss: 0.0472 - tp: 306.0000 - fp: 46.0000 - tn: 58.0000 - fn: 2.0000 - accuracy: 0.8835 - precision: 0.8693 - recall: 0.9935 - auc: 0.9378 - bce: 0.3019 - val_loss: 0.1250 - val_tp: 61.0000 - val_fp: 10.0000 - val_tn: 14.0000 - val_fn: 11.0000 - val_accuracy: 0.7812 - val_precision: 0.8592 - val_recall: 0.8472 - val_auc: 0.7781 - val_bce: 0.5914\n",
      "Epoch 16/1000\n",
      "412/412 [==============================] - 40s 97ms/sample - loss: 0.0465 - tp: 306.0000 - fp: 45.0000 - tn: 59.0000 - fn: 2.0000 - accuracy: 0.8859 - precision: 0.8718 - recall: 0.9935 - auc: 0.9413 - bce: 0.2830 - val_loss: 0.1015 - val_tp: 68.0000 - val_fp: 11.0000 - val_tn: 13.0000 - val_fn: 4.0000 - val_accuracy: 0.8438 - val_precision: 0.8608 - val_recall: 0.9444 - val_auc: 0.7564 - val_bce: 0.5717\n",
      "Epoch 17/1000\n",
      "412/412 [==============================] - 37s 90ms/sample - loss: 0.0433 - tp: 306.0000 - fp: 40.0000 - tn: 64.0000 - fn: 2.0000 - accuracy: 0.8981 - precision: 0.8844 - recall: 0.9935 - auc: 0.9506 - bce: 0.2700 - val_loss: 0.1332 - val_tp: 60.0000 - val_fp: 10.0000 - val_tn: 14.0000 - val_fn: 12.0000 - val_accuracy: 0.7708 - val_precision: 0.8571 - val_recall: 0.8333 - val_auc: 0.7532 - val_bce: 0.6282\n",
      "Epoch 18/1000\n",
      "412/412 [==============================] - 37s 89ms/sample - loss: 0.0382 - tp: 305.0000 - fp: 36.0000 - tn: 68.0000 - fn: 3.0000 - accuracy: 0.9053 - precision: 0.8944 - recall: 0.9903 - auc: 0.9678 - bce: 0.2439 - val_loss: 0.1915 - val_tp: 53.0000 - val_fp: 10.0000 - val_tn: 14.0000 - val_fn: 19.0000 - val_accuracy: 0.6979 - val_precision: 0.8413 - val_recall: 0.7361 - val_auc: 0.7280 - val_bce: 0.7387\n",
      "Epoch 19/1000\n",
      "412/412 [==============================] - 38s 91ms/sample - loss: 0.0289 - tp: 307.0000 - fp: 26.0000 - tn: 78.0000 - fn: 1.0000 - accuracy: 0.9345 - precision: 0.9219 - recall: 0.9968 - auc: 0.9847 - bce: 0.1684 - val_loss: 0.1817 - val_tp: 56.0000 - val_fp: 10.0000 - val_tn: 14.0000 - val_fn: 16.0000 - val_accuracy: 0.7292 - val_precision: 0.8485 - val_recall: 0.7778 - val_auc: 0.7659 - val_bce: 0.7139\n"
     ]
    },
    {
     "name": "stdout",
     "output_type": "stream",
     "text": [
      "Epoch 20/1000\n",
      "412/412 [==============================] - 38s 93ms/sample - loss: 0.0212 - tp: 308.0000 - fp: 17.0000 - tn: 87.0000 - fn: 0.0000e+00 - accuracy: 0.9587 - precision: 0.9477 - recall: 1.0000 - auc: 0.9890 - bce: 0.1261 - val_loss: 0.2160 - val_tp: 58.0000 - val_fp: 10.0000 - val_tn: 14.0000 - val_fn: 14.0000 - val_accuracy: 0.7500 - val_precision: 0.8529 - val_recall: 0.8056 - val_auc: 0.7335 - val_bce: 0.9162\n",
      "Epoch 21/1000\n",
      "412/412 [==============================] - 37s 91ms/sample - loss: 0.0187 - tp: 305.0000 - fp: 14.0000 - tn: 90.0000 - fn: 3.0000 - accuracy: 0.9587 - precision: 0.9561 - recall: 0.9903 - auc: 0.9917 - bce: 0.1051 - val_loss: 0.1931 - val_tp: 57.0000 - val_fp: 10.0000 - val_tn: 14.0000 - val_fn: 15.0000 - val_accuracy: 0.7396 - val_precision: 0.8507 - val_recall: 0.7917 - val_auc: 0.7648 - val_bce: 0.8683\n",
      "Epoch 22/1000\n",
      "412/412 [==============================] - 39s 94ms/sample - loss: 0.0195 - tp: 307.0000 - fp: 23.0000 - tn: 81.0000 - fn: 1.0000 - accuracy: 0.9417 - precision: 0.9303 - recall: 0.9968 - auc: 0.9944 - bce: 0.1255 - val_loss: 0.2867 - val_tp: 55.0000 - val_fp: 10.0000 - val_tn: 14.0000 - val_fn: 17.0000 - val_accuracy: 0.7188 - val_precision: 0.8462 - val_recall: 0.7639 - val_auc: 0.7037 - val_bce: 1.2055\n",
      "Epoch 23/1000\n",
      "412/412 [==============================] - 38s 93ms/sample - loss: 0.0228 - tp: 304.0000 - fp: 15.0000 - tn: 89.0000 - fn: 4.0000 - accuracy: 0.9539 - precision: 0.9530 - recall: 0.9870 - auc: 0.9921 - bce: 0.1209 - val_loss: 0.2198 - val_tp: 57.0000 - val_fp: 10.0000 - val_tn: 14.0000 - val_fn: 15.0000 - val_accuracy: 0.7396 - val_precision: 0.8507 - val_recall: 0.7917 - val_auc: 0.7590 - val_bce: 0.9779\n",
      "Epoch 24/1000\n",
      "412/412 [==============================] - 36s 88ms/sample - loss: 0.0179 - tp: 308.0000 - fp: 18.0000 - tn: 86.0000 - fn: 0.0000e+00 - accuracy: 0.9563 - precision: 0.9448 - recall: 1.0000 - auc: 0.9948 - bce: 0.1057 - val_loss: 0.2996 - val_tp: 50.0000 - val_fp: 8.0000 - val_tn: 16.0000 - val_fn: 22.0000 - val_accuracy: 0.6875 - val_precision: 0.8621 - val_recall: 0.6944 - val_auc: 0.7422 - val_bce: 1.0520\n",
      "Epoch 25/1000\n",
      "412/412 [==============================] - 37s 89ms/sample - loss: 0.0118 - tp: 307.0000 - fp: 8.0000 - tn: 96.0000 - fn: 1.0000 - accuracy: 0.9782 - precision: 0.9746 - recall: 0.9968 - auc: 0.9974 - bce: 0.0700 - val_loss: 0.3179 - val_tp: 47.0000 - val_fp: 8.0000 - val_tn: 16.0000 - val_fn: 25.0000 - val_accuracy: 0.6562 - val_precision: 0.8545 - val_recall: 0.6528 - val_auc: 0.7792 - val_bce: 1.0817\n",
      "Epoch 26/1000\n",
      "412/412 [==============================] - 38s 92ms/sample - loss: 0.0081 - tp: 306.0000 - fp: 4.0000 - tn: 100.0000 - fn: 2.0000 - accuracy: 0.9854 - precision: 0.9871 - recall: 0.9935 - auc: 0.9995 - bce: 0.0406 - val_loss: 0.2102 - val_tp: 59.0000 - val_fp: 10.0000 - val_tn: 14.0000 - val_fn: 13.0000 - val_accuracy: 0.7604 - val_precision: 0.8551 - val_recall: 0.8194 - val_auc: 0.7627 - val_bce: 0.9361\n",
      "Epoch 27/1000\n",
      "412/412 [==============================] - 38s 93ms/sample - loss: 0.0076 - tp: 307.0000 - fp: 7.0000 - tn: 97.0000 - fn: 1.0000 - accuracy: 0.9806 - precision: 0.9777 - recall: 0.9968 - auc: 0.9996 - bce: 0.0461 - val_loss: 0.3106 - val_tp: 57.0000 - val_fp: 11.0000 - val_tn: 13.0000 - val_fn: 15.0000 - val_accuracy: 0.7292 - val_precision: 0.8382 - val_recall: 0.7917 - val_auc: 0.7092 - val_bce: 1.3934\n",
      "Epoch 28/1000\n",
      "412/412 [==============================] - 39s 94ms/sample - loss: 0.0054 - tp: 308.0000 - fp: 5.0000 - tn: 99.0000 - fn: 0.0000e+00 - accuracy: 0.9879 - precision: 0.9840 - recall: 1.0000 - auc: 0.9999 - bce: 0.0315 - val_loss: 0.3450 - val_tp: 48.0000 - val_fp: 8.0000 - val_tn: 16.0000 - val_fn: 24.0000 - val_accuracy: 0.6667 - val_precision: 0.8571 - val_recall: 0.6667 - val_auc: 0.7503 - val_bce: 1.2120\n",
      "Epoch 29/1000\n",
      "412/412 [==============================] - 40s 96ms/sample - loss: 0.0023 - tp: 308.0000 - fp: 0.0000e+00 - tn: 104.0000 - fn: 0.0000e+00 - accuracy: 1.0000 - precision: 1.0000 - recall: 1.0000 - auc: 1.0000 - bce: 0.0123 - val_loss: 0.3688 - val_tp: 53.0000 - val_fp: 10.0000 - val_tn: 14.0000 - val_fn: 19.0000 - val_accuracy: 0.6979 - val_precision: 0.8413 - val_recall: 0.7361 - val_auc: 0.7309 - val_bce: 1.3992\n",
      "Epoch 30/1000\n",
      "412/412 [==============================] - 39s 94ms/sample - loss: 0.0016 - tp: 308.0000 - fp: 0.0000e+00 - tn: 104.0000 - fn: 0.0000e+00 - accuracy: 1.0000 - precision: 1.0000 - recall: 1.0000 - auc: 1.0000 - bce: 0.0089 - val_loss: 0.3805 - val_tp: 53.0000 - val_fp: 10.0000 - val_tn: 14.0000 - val_fn: 19.0000 - val_accuracy: 0.6979 - val_precision: 0.8413 - val_recall: 0.7361 - val_auc: 0.7378 - val_bce: 1.3987\n",
      "Epoch 31/1000\n",
      "412/412 [==============================] - 39s 95ms/sample - loss: 0.0012 - tp: 308.0000 - fp: 0.0000e+00 - tn: 104.0000 - fn: 0.0000e+00 - accuracy: 1.0000 - precision: 1.0000 - recall: 1.0000 - auc: 1.0000 - bce: 0.0056 - val_loss: 0.3547 - val_tp: 54.0000 - val_fp: 11.0000 - val_tn: 13.0000 - val_fn: 18.0000 - val_accuracy: 0.6979 - val_precision: 0.8308 - val_recall: 0.7500 - val_auc: 0.7387 - val_bce: 1.4382\n",
      "Epoch 32/1000\n",
      "412/412 [==============================] - 39s 95ms/sample - loss: 0.0011 - tp: 308.0000 - fp: 0.0000e+00 - tn: 104.0000 - fn: 0.0000e+00 - accuracy: 1.0000 - precision: 1.0000 - recall: 1.0000 - auc: 1.0000 - bce: 0.0055 - val_loss: 0.4089 - val_tp: 53.0000 - val_fp: 10.0000 - val_tn: 14.0000 - val_fn: 19.0000 - val_accuracy: 0.6979 - val_precision: 0.8413 - val_recall: 0.7361 - val_auc: 0.7494 - val_bce: 1.5414\n",
      "Epoch 33/1000\n",
      "412/412 [==============================] - 39s 94ms/sample - loss: 8.1199e-04 - tp: 308.0000 - fp: 0.0000e+00 - tn: 104.0000 - fn: 0.0000e+00 - accuracy: 1.0000 - precision: 1.0000 - recall: 1.0000 - auc: 1.0000 - bce: 0.0048 - val_loss: 0.4995 - val_tp: 50.0000 - val_fp: 7.0000 - val_tn: 17.0000 - val_fn: 22.0000 - val_accuracy: 0.6979 - val_precision: 0.8772 - val_recall: 0.6944 - val_auc: 0.7326 - val_bce: 1.6808\n",
      "Epoch 34/1000\n",
      "412/412 [==============================] - 38s 93ms/sample - loss: 5.6257e-04 - tp: 308.0000 - fp: 0.0000e+00 - tn: 104.0000 - fn: 0.0000e+00 - accuracy: 1.0000 - precision: 1.0000 - recall: 1.0000 - auc: 1.0000 - bce: 0.0032 - val_loss: 0.4476 - val_tp: 51.0000 - val_fp: 9.0000 - val_tn: 15.0000 - val_fn: 21.0000 - val_accuracy: 0.6875 - val_precision: 0.8500 - val_recall: 0.7083 - val_auc: 0.7384 - val_bce: 1.6190\n",
      "Epoch 35/1000\n",
      "412/412 [==============================] - 39s 94ms/sample - loss: 4.3122e-04 - tp: 308.0000 - fp: 0.0000e+00 - tn: 104.0000 - fn: 0.0000e+00 - accuracy: 1.0000 - precision: 1.0000 - recall: 1.0000 - auc: 1.0000 - bce: 0.0020 - val_loss: 0.4541 - val_tp: 51.0000 - val_fp: 9.0000 - val_tn: 15.0000 - val_fn: 21.0000 - val_accuracy: 0.6875 - val_precision: 0.8500 - val_recall: 0.7083 - val_auc: 0.7402 - val_bce: 1.6342\n",
      "Epoch 36/1000\n",
      "412/412 [==============================] - 38s 93ms/sample - loss: 3.5388e-04 - tp: 308.0000 - fp: 0.0000e+00 - tn: 104.0000 - fn: 0.0000e+00 - accuracy: 1.0000 - precision: 1.0000 - recall: 1.0000 - auc: 1.0000 - bce: 0.0022 - val_loss: 0.4829 - val_tp: 51.0000 - val_fp: 8.0000 - val_tn: 16.0000 - val_fn: 21.0000 - val_accuracy: 0.6979 - val_precision: 0.8644 - val_recall: 0.7083 - val_auc: 0.7407 - val_bce: 1.7028\n",
      "Epoch 37/1000\n",
      "412/412 [==============================] - 38s 93ms/sample - loss: 3.0552e-04 - tp: 308.0000 - fp: 0.0000e+00 - tn: 104.0000 - fn: 0.0000e+00 - accuracy: 1.0000 - precision: 1.0000 - recall: 1.0000 - auc: 1.0000 - bce: 0.0016 - val_loss: 0.4722 - val_tp: 52.0000 - val_fp: 9.0000 - val_tn: 15.0000 - val_fn: 20.0000 - val_accuracy: 0.6979 - val_precision: 0.8525 - val_recall: 0.7222 - val_auc: 0.7451 - val_bce: 1.7026\n",
      "Epoch 38/1000\n",
      "412/412 [==============================] - 38s 93ms/sample - loss: 2.6001e-04 - tp: 308.0000 - fp: 0.0000e+00 - tn: 104.0000 - fn: 0.0000e+00 - accuracy: 1.0000 - precision: 1.0000 - recall: 1.0000 - auc: 1.0000 - bce: 0.0013 - val_loss: 0.4776 - val_tp: 51.0000 - val_fp: 9.0000 - val_tn: 15.0000 - val_fn: 21.0000 - val_accuracy: 0.6875 - val_precision: 0.8500 - val_recall: 0.7083 - val_auc: 0.7439 - val_bce: 1.7205\n",
      "Epoch 39/1000\n"
     ]
    },
    {
     "name": "stdout",
     "output_type": "stream",
     "text": [
      "412/412 [==============================] - 38s 92ms/sample - loss: 2.3496e-04 - tp: 308.0000 - fp: 0.0000e+00 - tn: 104.0000 - fn: 0.0000e+00 - accuracy: 1.0000 - precision: 1.0000 - recall: 1.0000 - auc: 1.0000 - bce: 0.0014 - val_loss: 0.4909 - val_tp: 51.0000 - val_fp: 9.0000 - val_tn: 15.0000 - val_fn: 21.0000 - val_accuracy: 0.6875 - val_precision: 0.8500 - val_recall: 0.7083 - val_auc: 0.7445 - val_bce: 1.7525\n",
      "Epoch 40/1000\n",
      "412/412 [==============================] - 39s 95ms/sample - loss: 2.2822e-04 - tp: 308.0000 - fp: 0.0000e+00 - tn: 104.0000 - fn: 0.0000e+00 - accuracy: 1.0000 - precision: 1.0000 - recall: 1.0000 - auc: 1.0000 - bce: 0.0010 - val_loss: 0.4794 - val_tp: 52.0000 - val_fp: 9.0000 - val_tn: 15.0000 - val_fn: 20.0000 - val_accuracy: 0.6979 - val_precision: 0.8525 - val_recall: 0.7222 - val_auc: 0.7439 - val_bce: 1.7568\n",
      "Epoch 41/1000\n",
      "412/412 [==============================] - 37s 89ms/sample - loss: 2.1931e-04 - tp: 308.0000 - fp: 0.0000e+00 - tn: 104.0000 - fn: 0.0000e+00 - accuracy: 1.0000 - precision: 1.0000 - recall: 1.0000 - auc: 1.0000 - bce: 0.0014 - val_loss: 0.5311 - val_tp: 51.0000 - val_fp: 8.0000 - val_tn: 16.0000 - val_fn: 21.0000 - val_accuracy: 0.6979 - val_precision: 0.8644 - val_recall: 0.7083 - val_auc: 0.7381 - val_bce: 1.8475\n",
      "Epoch 42/1000\n",
      "412/412 [==============================] - 36s 87ms/sample - loss: 1.9110e-04 - tp: 308.0000 - fp: 0.0000e+00 - tn: 104.0000 - fn: 0.0000e+00 - accuracy: 1.0000 - precision: 1.0000 - recall: 1.0000 - auc: 1.0000 - bce: 8.1812e-04 - val_loss: 0.5064 - val_tp: 51.0000 - val_fp: 9.0000 - val_tn: 15.0000 - val_fn: 21.0000 - val_accuracy: 0.6875 - val_precision: 0.8500 - val_recall: 0.7083 - val_auc: 0.7378 - val_bce: 1.8348\n",
      "Epoch 43/1000\n",
      "412/412 [==============================] - 37s 89ms/sample - loss: 1.6582e-04 - tp: 308.0000 - fp: 0.0000e+00 - tn: 104.0000 - fn: 0.0000e+00 - accuracy: 1.0000 - precision: 1.0000 - recall: 1.0000 - auc: 1.0000 - bce: 9.7451e-04 - val_loss: 0.5237 - val_tp: 51.0000 - val_fp: 9.0000 - val_tn: 15.0000 - val_fn: 21.0000 - val_accuracy: 0.6875 - val_precision: 0.8500 - val_recall: 0.7083 - val_auc: 0.7384 - val_bce: 1.8621\n",
      "Epoch 44/1000\n",
      "412/412 [==============================] - 36s 88ms/sample - loss: 1.4473e-04 - tp: 308.0000 - fp: 0.0000e+00 - tn: 104.0000 - fn: 0.0000e+00 - accuracy: 1.0000 - precision: 1.0000 - recall: 1.0000 - auc: 1.0000 - bce: 7.5988e-04 - val_loss: 0.5143 - val_tp: 51.0000 - val_fp: 9.0000 - val_tn: 15.0000 - val_fn: 21.0000 - val_accuracy: 0.6875 - val_precision: 0.8500 - val_recall: 0.7083 - val_auc: 0.7407 - val_bce: 1.8455\n",
      "Epoch 45/1000\n",
      "412/412 [==============================] - 37s 89ms/sample - loss: 1.3346e-04 - tp: 308.0000 - fp: 0.0000e+00 - tn: 104.0000 - fn: 0.0000e+00 - accuracy: 1.0000 - precision: 1.0000 - recall: 1.0000 - auc: 1.0000 - bce: 7.2569e-04 - val_loss: 0.5349 - val_tp: 51.0000 - val_fp: 9.0000 - val_tn: 15.0000 - val_fn: 21.0000 - val_accuracy: 0.6875 - val_precision: 0.8500 - val_recall: 0.7083 - val_auc: 0.7399 - val_bce: 1.8989\n",
      "Epoch 46/1000\n",
      "412/412 [==============================] - 37s 90ms/sample - loss: 1.3002e-04 - tp: 308.0000 - fp: 0.0000e+00 - tn: 104.0000 - fn: 0.0000e+00 - accuracy: 1.0000 - precision: 1.0000 - recall: 1.0000 - auc: 1.0000 - bce: 7.4393e-04 - val_loss: 0.5451 - val_tp: 51.0000 - val_fp: 8.0000 - val_tn: 16.0000 - val_fn: 21.0000 - val_accuracy: 0.6979 - val_precision: 0.8644 - val_recall: 0.7083 - val_auc: 0.7405 - val_bce: 1.9210\n",
      "Epoch 47/1000\n",
      "412/412 [==============================] - 35s 86ms/sample - loss: 1.1784e-04 - tp: 308.0000 - fp: 0.0000e+00 - tn: 104.0000 - fn: 0.0000e+00 - accuracy: 1.0000 - precision: 1.0000 - recall: 1.0000 - auc: 1.0000 - bce: 5.7506e-04 - val_loss: 0.5407 - val_tp: 51.0000 - val_fp: 9.0000 - val_tn: 15.0000 - val_fn: 21.0000 - val_accuracy: 0.6875 - val_precision: 0.8500 - val_recall: 0.7083 - val_auc: 0.7396 - val_bce: 1.9346\n",
      "Epoch 48/1000\n",
      "412/412 [==============================] - 36s 88ms/sample - loss: 1.0711e-04 - tp: 308.0000 - fp: 0.0000e+00 - tn: 104.0000 - fn: 0.0000e+00 - accuracy: 1.0000 - precision: 1.0000 - recall: 1.0000 - auc: 1.0000 - bce: 5.9356e-04 - val_loss: 0.5450 - val_tp: 51.0000 - val_fp: 8.0000 - val_tn: 16.0000 - val_fn: 21.0000 - val_accuracy: 0.6979 - val_precision: 0.8644 - val_recall: 0.7083 - val_auc: 0.7407 - val_bce: 1.9361\n",
      "Epoch 49/1000\n",
      "412/412 [==============================] - 37s 89ms/sample - loss: 9.8956e-05 - tp: 308.0000 - fp: 0.0000e+00 - tn: 104.0000 - fn: 0.0000e+00 - accuracy: 1.0000 - precision: 1.0000 - recall: 1.0000 - auc: 1.0000 - bce: 5.3014e-04 - val_loss: 0.5508 - val_tp: 51.0000 - val_fp: 9.0000 - val_tn: 15.0000 - val_fn: 21.0000 - val_accuracy: 0.6875 - val_precision: 0.8500 - val_recall: 0.7083 - val_auc: 0.7370 - val_bce: 1.9533\n",
      "Epoch 50/1000\n",
      "412/412 [==============================] - 36s 88ms/sample - loss: 9.2238e-05 - tp: 308.0000 - fp: 0.0000e+00 - tn: 104.0000 - fn: 0.0000e+00 - accuracy: 1.0000 - precision: 1.0000 - recall: 1.0000 - auc: 1.0000 - bce: 4.9713e-04 - val_loss: 0.5544 - val_tp: 51.0000 - val_fp: 9.0000 - val_tn: 15.0000 - val_fn: 21.0000 - val_accuracy: 0.6875 - val_precision: 0.8500 - val_recall: 0.7083 - val_auc: 0.7381 - val_bce: 1.9787\n",
      "Epoch 51/1000\n",
      "412/412 [==============================] - 36s 88ms/sample - loss: 8.6663e-05 - tp: 308.0000 - fp: 0.0000e+00 - tn: 104.0000 - fn: 0.0000e+00 - accuracy: 1.0000 - precision: 1.0000 - recall: 1.0000 - auc: 1.0000 - bce: 4.6778e-04 - val_loss: 0.5641 - val_tp: 51.0000 - val_fp: 8.0000 - val_tn: 16.0000 - val_fn: 21.0000 - val_accuracy: 0.6979 - val_precision: 0.8644 - val_recall: 0.7083 - val_auc: 0.7326 - val_bce: 2.0032\n",
      "Epoch 52/1000\n",
      "412/412 [==============================] - 37s 90ms/sample - loss: 8.3404e-05 - tp: 308.0000 - fp: 0.0000e+00 - tn: 104.0000 - fn: 0.0000e+00 - accuracy: 1.0000 - precision: 1.0000 - recall: 1.0000 - auc: 1.0000 - bce: 4.4595e-04 - val_loss: 0.5751 - val_tp: 51.0000 - val_fp: 8.0000 - val_tn: 16.0000 - val_fn: 21.0000 - val_accuracy: 0.6979 - val_precision: 0.8644 - val_recall: 0.7083 - val_auc: 0.7332 - val_bce: 2.0328\n",
      "Epoch 53/1000\n",
      "412/412 [==============================] - 38s 92ms/sample - loss: 7.6674e-05 - tp: 308.0000 - fp: 0.0000e+00 - tn: 104.0000 - fn: 0.0000e+00 - accuracy: 1.0000 - precision: 1.0000 - recall: 1.0000 - auc: 1.0000 - bce: 4.1801e-04 - val_loss: 0.5633 - val_tp: 51.0000 - val_fp: 9.0000 - val_tn: 15.0000 - val_fn: 21.0000 - val_accuracy: 0.6875 - val_precision: 0.8500 - val_recall: 0.7083 - val_auc: 0.7231 - val_bce: 2.0150\n",
      "Epoch 54/1000\n",
      "412/412 [==============================] - 37s 90ms/sample - loss: 7.2572e-05 - tp: 308.0000 - fp: 0.0000e+00 - tn: 104.0000 - fn: 0.0000e+00 - accuracy: 1.0000 - precision: 1.0000 - recall: 1.0000 - auc: 1.0000 - bce: 4.0583e-04 - val_loss: 0.5758 - val_tp: 51.0000 - val_fp: 8.0000 - val_tn: 16.0000 - val_fn: 21.0000 - val_accuracy: 0.6979 - val_precision: 0.8644 - val_recall: 0.7083 - val_auc: 0.7347 - val_bce: 2.0367\n",
      "Epoch 55/1000\n",
      "412/412 [==============================] - 39s 95ms/sample - loss: 6.9916e-05 - tp: 308.0000 - fp: 0.0000e+00 - tn: 104.0000 - fn: 0.0000e+00 - accuracy: 1.0000 - precision: 1.0000 - recall: 1.0000 - auc: 1.0000 - bce: 3.4812e-04 - val_loss: 0.5819 - val_tp: 51.0000 - val_fp: 9.0000 - val_tn: 15.0000 - val_fn: 21.0000 - val_accuracy: 0.6875 - val_precision: 0.8500 - val_recall: 0.7083 - val_auc: 0.7344 - val_bce: 2.0608\n",
      "Epoch 56/1000\n",
      "412/412 [==============================] - 38s 93ms/sample - loss: 6.6586e-05 - tp: 308.0000 - fp: 0.0000e+00 - tn: 104.0000 - fn: 0.0000e+00 - accuracy: 1.0000 - precision: 1.0000 - recall: 1.0000 - auc: 1.0000 - bce: 3.7895e-04 - val_loss: 0.5831 - val_tp: 51.0000 - val_fp: 9.0000 - val_tn: 15.0000 - val_fn: 21.0000 - val_accuracy: 0.6875 - val_precision: 0.8500 - val_recall: 0.7083 - val_auc: 0.7347 - val_bce: 2.0717\n",
      "Epoch 57/1000\n",
      "412/412 [==============================] - 37s 91ms/sample - loss: 6.3026e-05 - tp: 308.0000 - fp: 0.0000e+00 - tn: 104.0000 - fn: 0.0000e+00 - accuracy: 1.0000 - precision: 1.0000 - recall: 1.0000 - auc: 1.0000 - bce: 3.1961e-04 - val_loss: 0.5932 - val_tp: 51.0000 - val_fp: 8.0000 - val_tn: 16.0000 - val_fn: 21.0000 - val_accuracy: 0.6979 - val_precision: 0.8644 - val_recall: 0.7083 - val_auc: 0.7344 - val_bce: 2.0962\n"
     ]
    },
    {
     "name": "stdout",
     "output_type": "stream",
     "text": [
      "Epoch 58/1000\n",
      "412/412 [==============================] - 38s 93ms/sample - loss: 5.9117e-05 - tp: 308.0000 - fp: 0.0000e+00 - tn: 104.0000 - fn: 0.0000e+00 - accuracy: 1.0000 - precision: 1.0000 - recall: 1.0000 - auc: 1.0000 - bce: 3.2538e-04 - val_loss: 0.5830 - val_tp: 51.0000 - val_fp: 9.0000 - val_tn: 15.0000 - val_fn: 21.0000 - val_accuracy: 0.6875 - val_precision: 0.8500 - val_recall: 0.7083 - val_auc: 0.7228 - val_bce: 2.0853\n",
      "Epoch 59/1000\n",
      "412/412 [==============================] - 37s 91ms/sample - loss: 5.7070e-05 - tp: 308.0000 - fp: 0.0000e+00 - tn: 104.0000 - fn: 0.0000e+00 - accuracy: 1.0000 - precision: 1.0000 - recall: 1.0000 - auc: 1.0000 - bce: 3.0833e-04 - val_loss: 0.6091 - val_tp: 51.0000 - val_fp: 8.0000 - val_tn: 16.0000 - val_fn: 21.0000 - val_accuracy: 0.6979 - val_precision: 0.8644 - val_recall: 0.7083 - val_auc: 0.7381 - val_bce: 2.1335\n",
      "Epoch 60/1000\n",
      "412/412 [==============================] - 39s 93ms/sample - loss: 5.3251e-05 - tp: 308.0000 - fp: 0.0000e+00 - tn: 104.0000 - fn: 0.0000e+00 - accuracy: 1.0000 - precision: 1.0000 - recall: 1.0000 - auc: 1.0000 - bce: 2.8048e-04 - val_loss: 0.5977 - val_tp: 51.0000 - val_fp: 9.0000 - val_tn: 15.0000 - val_fn: 21.0000 - val_accuracy: 0.6875 - val_precision: 0.8500 - val_recall: 0.7083 - val_auc: 0.7225 - val_bce: 2.1201\n",
      "Epoch 61/1000\n",
      "412/412 [==============================] - 38s 92ms/sample - loss: 5.1135e-05 - tp: 308.0000 - fp: 0.0000e+00 - tn: 104.0000 - fn: 0.0000e+00 - accuracy: 1.0000 - precision: 1.0000 - recall: 1.0000 - auc: 1.0000 - bce: 2.8555e-04 - val_loss: 0.6078 - val_tp: 51.0000 - val_fp: 8.0000 - val_tn: 16.0000 - val_fn: 21.0000 - val_accuracy: 0.6979 - val_precision: 0.8644 - val_recall: 0.7083 - val_auc: 0.7263 - val_bce: 2.1489\n",
      "Epoch 62/1000\n",
      "412/412 [==============================] - 36s 88ms/sample - loss: 4.8822e-05 - tp: 308.0000 - fp: 0.0000e+00 - tn: 104.0000 - fn: 0.0000e+00 - accuracy: 1.0000 - precision: 1.0000 - recall: 1.0000 - auc: 1.0000 - bce: 2.5656e-04 - val_loss: 0.6128 - val_tp: 51.0000 - val_fp: 9.0000 - val_tn: 15.0000 - val_fn: 21.0000 - val_accuracy: 0.6875 - val_precision: 0.8500 - val_recall: 0.7083 - val_auc: 0.7266 - val_bce: 2.1692\n",
      "Epoch 63/1000\n",
      "412/412 [==============================] - 36s 88ms/sample - loss: 4.7134e-05 - tp: 308.0000 - fp: 0.0000e+00 - tn: 104.0000 - fn: 0.0000e+00 - accuracy: 1.0000 - precision: 1.0000 - recall: 1.0000 - auc: 1.0000 - bce: 2.4079e-04 - val_loss: 0.6136 - val_tp: 51.0000 - val_fp: 8.0000 - val_tn: 16.0000 - val_fn: 21.0000 - val_accuracy: 0.6979 - val_precision: 0.8644 - val_recall: 0.7083 - val_auc: 0.7263 - val_bce: 2.1665\n",
      "Epoch 64/1000\n",
      "412/412 [==============================] - 36s 87ms/sample - loss: 4.4523e-05 - tp: 308.0000 - fp: 0.0000e+00 - tn: 104.0000 - fn: 0.0000e+00 - accuracy: 1.0000 - precision: 1.0000 - recall: 1.0000 - auc: 1.0000 - bce: 2.4761e-04 - val_loss: 0.6054 - val_tp: 51.0000 - val_fp: 9.0000 - val_tn: 15.0000 - val_fn: 21.0000 - val_accuracy: 0.6875 - val_precision: 0.8500 - val_recall: 0.7083 - val_auc: 0.7231 - val_bce: 2.1568\n",
      "Epoch 65/1000\n",
      "412/412 [==============================] - 36s 87ms/sample - loss: 4.2582e-05 - tp: 308.0000 - fp: 0.0000e+00 - tn: 104.0000 - fn: 0.0000e+00 - accuracy: 1.0000 - precision: 1.0000 - recall: 1.0000 - auc: 1.0000 - bce: 2.3966e-04 - val_loss: 0.6185 - val_tp: 51.0000 - val_fp: 8.0000 - val_tn: 16.0000 - val_fn: 21.0000 - val_accuracy: 0.6979 - val_precision: 0.8644 - val_recall: 0.7083 - val_auc: 0.7263 - val_bce: 2.1867\n",
      "Epoch 66/1000\n",
      "384/412 [==========================>...] - ETA: 2s - loss: 4.0940e-05 - tp: 285.0000 - fp: 0.0000e+00 - tn: 99.0000 - fn: 0.0000e+00 - accuracy: 1.0000 - precision: 1.0000 - recall: 1.0000 - auc: 1.0000 - bce: 2.1526e-04Restoring model weights from the end of the best epoch.\n",
      "412/412 [==============================] - 36s 88ms/sample - loss: 4.1117e-05 - tp: 308.0000 - fp: 0.0000e+00 - tn: 104.0000 - fn: 0.0000e+00 - accuracy: 1.0000 - precision: 1.0000 - recall: 1.0000 - auc: 1.0000 - bce: 2.1972e-04 - val_loss: 0.6250 - val_tp: 51.0000 - val_fp: 8.0000 - val_tn: 16.0000 - val_fn: 21.0000 - val_accuracy: 0.6979 - val_precision: 0.8644 - val_recall: 0.7083 - val_auc: 0.7263 - val_bce: 2.1968\n",
      "Epoch 00066: early stopping\n"
     ]
    },
    {
     "data": {
      "text/plain": [
       "<tensorflow.python.keras.callbacks.History at 0x7f42f02fe1d0>"
      ]
     },
     "execution_count": 10,
     "metadata": {},
     "output_type": "execute_result"
    }
   ],
   "source": [
    "import tensorflow as tf\n",
    "from tensorflow.keras.datasets import cifar10\n",
    "from tensorflow.keras.preprocessing.image import ImageDataGenerator\n",
    "from tensorflow.keras.models import Sequential\n",
    "from tensorflow.keras.layers import Dense, Dropout, Activation, Flatten\n",
    "from tensorflow.keras.layers import Conv2D, MaxPooling2D\n",
    "from tensorflow.keras import optimizers\n",
    "import tensorflow.keras.metrics\n",
    "\n",
    "## Model\n",
    "model = Sequential()\n",
    "\n",
    "x,y = X_train.shape[1:]\n",
    "model.add(Conv2D(256, (3, 3), input_shape=(x,y,1)))\n",
    "model.add(Activation('relu'))\n",
    "model.add(MaxPooling2D(pool_size=(2, 2)))\n",
    "\n",
    "model.add(Conv2D(256, (3, 3)))\n",
    "model.add(Activation('relu'))\n",
    "model.add(MaxPooling2D(pool_size=(2, 2)))\n",
    "\n",
    "model.add(Flatten())  # this converts our 3D feature maps to 1D feature vectors\n",
    "\n",
    "model.add(Dense(64))\n",
    "\n",
    "model.add(Dense(1))\n",
    "model.add(Activation('sigmoid'))\n",
    "\n",
    "##\n",
    "\n",
    "# https://www.tensorflow.org/tutorials/structured_data/imbalanced_data#define_the_model_and_metrics\n",
    "METRICS = [\n",
    "      tensorflow.keras.metrics.TruePositives(name='tp'),\n",
    "      tensorflow.keras.metrics.FalsePositives(name='fp'),\n",
    "      tensorflow.keras.metrics.TrueNegatives(name='tn'),\n",
    "      tensorflow.keras.metrics.FalseNegatives(name='fn'), \n",
    "      tensorflow.keras.metrics.BinaryAccuracy(name='accuracy'),\n",
    "      tensorflow.keras.metrics.Precision(name='precision'),\n",
    "      tensorflow.keras.metrics.Recall(name='recall'),\n",
    "      tensorflow.keras.metrics.AUC(name='auc'),\n",
    "      tensorflow.keras.metrics.BinaryCrossentropy(name='bce')\n",
    "]\n",
    "\n",
    "model.compile(loss='binary_crossentropy',\n",
    "              optimizer='adam',\n",
    "              metrics=METRICS)\n",
    "\n",
    "# from tensorflow.keras.models import load_model\n",
    "# model = load_model('256_save_best_tn2.epoch=24-val_tn=6.0000.hdf5')\n",
    "\n",
    "# Get shuffled data and prepare for model.fit inputs\n",
    "X_train_s, y_train_s = shuffle_data(X_train, y_train)\n",
    "X_val_s, y_val_s = shuffle_data(X_val, y_val)\n",
    "input_data = X_train_s.reshape((-1, x, y, 1))\n",
    "val_data = X_val_s.reshape((-1, x, y, 1))\n",
    "\n",
    "# Treat every sober image with same weight as 3 drunk images\n",
    "# https://www.tensorflow.org/tutorials/structured_data/imbalanced_data#class_weights\n",
    "class_weight = {0: (1/4)/2, 1: (3/4)/2}\n",
    "\n",
    "# save_best_model_loss = tf.keras.callbacks.ModelCheckpoint(\"best_loss.epoch={epoch:02d}-val_loss={val_loss:.4f}.hdf5\", \n",
    "#                                                           monitor='val_loss', \n",
    "#                                                           verbose=0, save_best_only=True, \n",
    "#                                                           save_weights_only=False, \n",
    "#                                                           mode='min', save_freq='epoch')\n",
    "# save_best_model_acc = tf.keras.callbacks.ModelCheckpoint(\"best_acc.epoch={epoch:02d}-val_acc={val_accuracy:.4f}.hdf5\", \n",
    "#                                                          monitor='val_accuracy', \n",
    "#                                                          verbose=0, save_best_only=True, \n",
    "#                                                          save_weights_only=False, \n",
    "#                                                          mode='max', save_freq='epoch')\n",
    "# save_best_model_tn = tf.keras.callbacks.ModelCheckpoint(\"best_tn.epoch={epoch:02d}-val_tn={val_tn:.4f}.hdf5\", \n",
    "#                                                         monitor='val_tn', \n",
    "#                                                         verbose=0, save_best_only=True, \n",
    "#                                                         save_weights_only=False, \n",
    "#                                                         mode='max', save_freq='epoch')\n",
    "# save_best_model_auc = tf.keras.callbacks.ModelCheckpoint(\"best_auc.epoch={epoch:02d}-val_auc={val_auc:.4f}.hdf5\", \n",
    "#                                                         monitor='val_auc', \n",
    "#                                                         verbose=0, save_best_only=True, \n",
    "#                                                         save_weights_only=False, \n",
    "#                                                         mode='max', save_freq='epoch')\n",
    "\n",
    "\n",
    "# early_stopping = tf.keras.callbacks.EarlyStopping(\n",
    "#     monitor='val_loss', \n",
    "#     verbose=1,\n",
    "#     patience=50,\n",
    "#     mode='min',\n",
    "#     restore_best_weights=True)\n",
    "\n",
    "# model.fit(input_data, np.array(y_train_s), \n",
    "#           batch_size=32, \n",
    "#           epochs=1000, \n",
    "#           validation_data=(val_data,np.array(y_val_s)), \n",
    "#           class_weight=class_weight,\n",
    "#           callbacks=[early_stopping,save_best_model_loss,save_best_model_acc,save_best_model_tn],\n",
    "#           use_multiprocessing=True)\n",
    "###############################################\n",
    "save_best_model_loss = tf.keras.callbacks.ModelCheckpoint(\"best_loss2.epoch={epoch:02d}-val_loss={val_loss:.4f}.hdf5\", \n",
    "                                                          monitor='val_loss', \n",
    "                                                          verbose=0, save_best_only=True, \n",
    "                                                          save_weights_only=False, \n",
    "                                                          mode='min', save_freq='epoch')\n",
    "save_best_model_acc = tf.keras.callbacks.ModelCheckpoint(\"best_acc2.epoch={epoch:02d}-val_acc={val_accuracy:.4f}.hdf5\", \n",
    "                                                         monitor='val_accuracy', \n",
    "                                                         verbose=0, save_best_only=True, \n",
    "                                                         save_weights_only=False, \n",
    "                                                         mode='max', save_freq='epoch')\n",
    "save_best_model_tn = tf.keras.callbacks.ModelCheckpoint(\"best_tn2.epoch={epoch:02d}-val_tn={val_tn:.4f}.hdf5\", \n",
    "                                                        monitor='val_tn', \n",
    "                                                        verbose=0, save_best_only=True, \n",
    "                                                        save_weights_only=False, \n",
    "                                                        mode='max', save_freq='epoch')\n",
    "save_best_model_auc = tf.keras.callbacks.ModelCheckpoint(\"best_auc2.epoch={epoch:02d}-val_auc={val_auc:.4f}.hdf5\", \n",
    "                                                        monitor='val_auc', \n",
    "                                                        verbose=0, save_best_only=True, \n",
    "                                                        save_weights_only=False, \n",
    "                                                        mode='max', save_freq='epoch')\n",
    "save_best_model_bce = tf.keras.callbacks.ModelCheckpoint(\"best_bce2.epoch={epoch:02d}-val_bce={val_bce:.4f}.hdf5\", \n",
    "                                                        monitor='val_bce', \n",
    "                                                        verbose=0, save_best_only=True, \n",
    "                                                        save_weights_only=False, \n",
    "                                                        mode='auto', save_freq='epoch')\n",
    "\n",
    "early_stopping = tf.keras.callbacks.EarlyStopping(\n",
    "    monitor='val_loss', \n",
    "    verbose=1,\n",
    "    patience=50,\n",
    "    mode='min',\n",
    "    restore_best_weights=True)\n",
    "\n",
    "model.fit(input_data, np.array(y_train_s), \n",
    "          batch_size=32, \n",
    "          epochs=1000, \n",
    "          validation_data=(val_data,np.array(y_val_s)), \n",
    "          class_weight=class_weight,\n",
    "          callbacks=[early_stopping,save_best_model_loss,save_best_model_acc,save_best_model_tn,save_best_model_auc,save_best_model_bce],\n",
    "          shuffle=True,\n",
    "          use_multiprocessing=True)"
   ]
  },
  {
   "cell_type": "code",
   "execution_count": 15,
   "metadata": {
    "ExecuteTime": {
     "start_time": "2020-03-27T17:35:56.379Z"
    }
   },
   "outputs": [
    {
     "name": "stdout",
     "output_type": "stream",
     "text": [
      "35/35 [==============================] - 2s 44ms/sample - loss: 0.7521 - tp: 24.0000 - fp: 6.0000 - tn: 2.0000 - fn: 3.0000 - accuracy: 0.7429 - precision: 0.8000 - recall: 0.8889 - auc: 0.6736 - bce: 0.7521\n",
      "Accuracy: 0.7428571428571429\n",
      "Confusion Matrix:\n",
      "[[ 2  6]\n",
      " [ 3 24]]\n",
      "Actual: 1, Pred: 1\n",
      "Actual: 1, Pred: 0\n",
      "Actual: 0, Pred: 1\n",
      "Actual: 1, Pred: 1\n",
      "Actual: 1, Pred: 1\n",
      "Actual: 1, Pred: 1\n",
      "Actual: 1, Pred: 1\n",
      "Actual: 1, Pred: 1\n",
      "Actual: 1, Pred: 1\n",
      "Actual: 1, Pred: 1\n",
      "Actual: 1, Pred: 0\n",
      "Actual: 0, Pred: 0\n"
     ]
    },
    {
     "data": {
      "image/png": "[encoded data removed]",
      "text/plain": [
       "<PIL.Image.Image image mode=L size=160x128 at 0x7F428C10B9D0>"
      ]
     },
     "metadata": {},
     "output_type": "display_data"
    },
    {
     "name": "stdout",
     "output_type": "stream",
     "text": [
      "Enter for next true negative:\n",
      "Actual: 1, Pred: 1\n",
      "Actual: 1, Pred: 1\n",
      "Actual: 1, Pred: 1\n",
      "Actual: 0, Pred: 0\n"
     ]
    },
    {
     "data": {
      "image/png": "[encoded data removed]",
      "text/plain": [
       "<PIL.Image.Image image mode=L size=160x128 at 0x7F428C10B090>"
      ]
     },
     "metadata": {},
     "output_type": "display_data"
    },
    {
     "name": "stdout",
     "output_type": "stream",
     "text": [
      "Enter for next true negative:\n",
      "Actual: 1, Pred: 1\n",
      "Actual: 1, Pred: 0\n",
      "Actual: 1, Pred: 1\n",
      "Actual: 1, Pred: 1\n",
      "Actual: 1, Pred: 1\n",
      "Actual: 1, Pred: 1\n",
      "Actual: 1, Pred: 1\n",
      "Actual: 0, Pred: 1\n",
      "Actual: 1, Pred: 1\n",
      "Actual: 1, Pred: 1\n",
      "Actual: 1, Pred: 1\n",
      "Actual: 1, Pred: 1\n",
      "Actual: 0, Pred: 1\n",
      "Actual: 1, Pred: 1\n",
      "Actual: 0, Pred: 1\n",
      "Actual: 1, Pred: 1\n",
      "Actual: 1, Pred: 1\n",
      "Actual: 0, Pred: 1\n",
      "Actual: 0, Pred: 1\n"
     ]
    }
   ],
   "source": [
    "# Manually load best saved model here and test\n",
    "from sklearn.metrics import accuracy_score, confusion_matrix\n",
    "from tensorflow.keras.models import load_model\n",
    "model = load_model('best_tn2.epoch=24-val_tn=16.0000.hdf5')\n",
    "\n",
    "X_test_s, y_test_s = shuffle_data(X_test, y_test)\n",
    "test_data = X_test_s.reshape((-1, x, y, 1))\n",
    "model.evaluate(test_data, np.array(y_test_s))\n",
    "\n",
    "y_pred = []\n",
    "predictions = model.predict(test_data)\n",
    "for predict in predictions:\n",
    "    y_pred.append(int(round(predict[0])))\n",
    "\n",
    "print(f'Accuracy: {accuracy_score(y_test_s,y_pred)}')\n",
    "print(f'Confusion Matrix:\\n{confusion_matrix(y_test_s,y_pred)}')\n",
    "\n",
    "for i,(actual,pred) in enumerate(zip(y_test_s,y_pred)):\n",
    "    print(f'Actual: {actual}, Pred: {pred}')\n",
    "    \n",
    "    if actual==0 and actual==pred:\n",
    "        display(Image.fromarray(X_test_s[i]*1000).convert('L'))\n",
    "        input('Enter for next true negative:')"
   ]
  },
  {
   "cell_type": "code",
   "execution_count": null,
   "metadata": {
    "ExecuteTime": {
     "end_time": "2020-03-27T17:06:42.129952Z",
     "start_time": "2020-03-27T17:06:42.124876Z"
    }
   },
   "outputs": [],
   "source": [
    "y_pred"
   ]
  }
 ],
 "metadata": {
  "kernelspec": {
   "display_name": "Python 3",
   "language": "python",
   "name": "python3"
  },
  "language_info": {
   "codemirror_mode": {
    "name": "ipython",
    "version": 3
   },
   "file_extension": ".py",
   "mimetype": "text/x-python",
   "name": "python",
   "nbconvert_exporter": "python",
   "pygments_lexer": "ipython3",
   "version": "3.7.7"
  },
  "varInspector": {
   "cols": {
    "lenName": 16,
    "lenType": 16,
    "lenVar": 40
   },
   "kernels_config": {
    "python": {
     "delete_cmd_postfix": "",
     "delete_cmd_prefix": "del ",
     "library": "var_list.py",
     "varRefreshCmd": "print(var_dic_list())"
    },
    "r": {
     "delete_cmd_postfix": ") ",
     "delete_cmd_prefix": "rm(",
     "library": "var_list.r",
     "varRefreshCmd": "cat(var_dic_list()) "
    }
   },
   "position": {
    "height": "144px",
    "left": "23px",
    "right": "20px",
    "top": "597px",
    "width": "350px"
   },
   "types_to_exclude": [
    "module",
    "function",
    "builtin_function_or_method",
    "instance",
    "_Feature"
   ],
   "window_display": false
  }
 },
 "nbformat": 4,
 "nbformat_minor": 4
}
